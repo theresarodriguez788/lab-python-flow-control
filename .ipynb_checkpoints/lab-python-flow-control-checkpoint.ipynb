{
 "cells": [
  {
   "cell_type": "markdown",
   "id": "d3bfc191-8885-42ee-b0a0-bbab867c6f9f",
   "metadata": {
    "tags": []
   },
   "source": [
    "# Lab | Flow Control"
   ]
  },
  {
   "cell_type": "markdown",
   "id": "3851fcd1-cf98-4653-9c89-e003b7ec9400",
   "metadata": {},
   "source": [
    "## Exercise: Managing Customer Orders Optimized\n",
    "\n",
    "In the last lab, you were starting an online store that sells various products. To ensure smooth operations, you developed a program that manages customer orders and inventory.\n",
    "\n",
    "You did so without using flow control. Let's go a step further and improve this code.\n",
    "\n",
    "Follow the steps below to complete the exercise:\n",
    "\n",
    "1. Look at your code from the lab data structures, and improve repeated code with loops.\n",
    "\n",
    "2. Instead of asking the user to input the name of three products that a customer wants to order, do the following:\n",
    "    \n",
    "    a. Prompt the user to enter the name of a product that a customer wants to order.\n",
    "    \n",
    "    b. Add the product name to the \"customer_orders\" set.\n",
    "    \n",
    "    c. Ask the user if they want to add another product (yes/no).\n",
    "    \n",
    "    d. Continue the loop until the user does not want to add another product.\n",
    "\n",
    "3. Instead of updating the inventory by subtracting 1 from the quantity of each product, only do it for  the products that were ordered (those in \"customer_orders\")."
   ]
  },
  {
   "cell_type": "code",
   "execution_count": null,
   "id": "d378cdb0-0095-4b13-861f-80f9815f7bc6",
   "metadata": {},
   "outputs": [],
   "source": [
    "# Define the list of products\n",
    "products = [\"t-shirt\", \"mug\", \"hat\", \"book\", \"keychain\"]\n",
    "\n",
    "# Create an empty set for customer orders\n",
    "customer_orders = set()\n",
    "\n",
    "# Prompt the user to enter the name of a product that a customer wants to order\n",
    "while True:\n",
    "    order = input(f\"Enter the product name that you want to order (choose from {', '.join(products)}): \")\n",
    "    while order not in products:\n",
    "        print(\"Invalid product. Please choose from the available products.\")\n",
    "        order = input(f\"Enter the product name that you want to order (choose from {', '.join(products)}): \")\n",
    "    customer_orders.add(order)\n",
    "    \n",
    "    # Ask the user if they want to add another product (yes/no)\n",
    "    add_another = input(\"Do you want to add another product? (yes/no): \").lower()\n",
    "    if add_another != \"yes\":\n",
    "        break\n",
    "\n",
    "# Print the customer orders\n",
    "print(\"Customer Orders:\", customer_orders)\n",
    "\n",
    "# Print order statistics\n",
    "print(\"Order Statistics:\")\n",
    "print(\"Total Products Ordered:\", order_status[0])\n"
   ]
  },
  {
   "cell_type": "code",
   "execution_count": null,
   "id": "b5b03723-bfc4-4c3d-8258-2f5bab910a26",
   "metadata": {},
   "outputs": [],
   "source": []
  }
 ],
 "metadata": {
  "kernelspec": {
   "display_name": "Python 3 (ipykernel)",
   "language": "python",
   "name": "python3"
  },
  "language_info": {
   "codemirror_mode": {
    "name": "ipython",
    "version": 3
   },
   "file_extension": ".py",
   "mimetype": "text/x-python",
   "name": "python",
   "nbconvert_exporter": "python",
   "pygments_lexer": "ipython3",
   "version": "3.11.7"
  }
 },
 "nbformat": 4,
 "nbformat_minor": 5
}
